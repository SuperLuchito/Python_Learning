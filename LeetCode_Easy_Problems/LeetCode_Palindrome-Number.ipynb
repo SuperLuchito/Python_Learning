{
 "cells": [
  {
   "cell_type": "code",
   "execution_count": null,
   "metadata": {},
   "outputs": [
    {
     "name": "stdout",
     "output_type": "stream",
     "text": [
      "False\n"
     ]
    }
   ],
   "source": [
    "import hashlib\n",
    "\n",
    "example_1 = 121\n",
    "example_2 = 1234\n",
    "\n",
    "\n",
    "def isPalindrome(num):\n",
    "    \n",
    "    num_str = str(num)\n",
    "    hash_object = hashlib.sha256(num_str.encode())\n",
    "    hash_value = hash_object.hexdigest()\n",
    "    \n",
    "    new_num_str = num_str[::-1]\n",
    "    \n",
    "    new_hash_object = hashlib.sha256(new_num_str.encode())\n",
    "    new_hash_value = new_hash_object.hexdigest()\n",
    "    \n",
    "    if hash_value == new_hash_value:\n",
    "        return True\n",
    "    else:\n",
    "        return False\n",
    "\n",
    "\n",
    "print(isPalindrome(example_1))"
   ]
  }
 ],
 "metadata": {
  "kernelspec": {
   "display_name": ".venv",
   "language": "python",
   "name": "python3"
  },
  "language_info": {
   "codemirror_mode": {
    "name": "ipython",
    "version": 3
   },
   "file_extension": ".py",
   "mimetype": "text/x-python",
   "name": "python",
   "nbconvert_exporter": "python",
   "pygments_lexer": "ipython3",
   "version": "3.12.6"
  }
 },
 "nbformat": 4,
 "nbformat_minor": 2
}
