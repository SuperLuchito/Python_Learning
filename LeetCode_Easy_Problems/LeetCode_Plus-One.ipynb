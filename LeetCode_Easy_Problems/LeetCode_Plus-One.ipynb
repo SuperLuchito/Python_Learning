{
 "cells": [
  {
   "cell_type": "code",
   "execution_count": 19,
   "metadata": {},
   "outputs": [
    {
     "name": "stdout",
     "output_type": "stream",
     "text": [
      "[1, 2, 4]\n"
     ]
    }
   ],
   "source": [
    "digits = [1, 2, 3]\n",
    "\n",
    "\n",
    "def plusOne(digits):\n",
    "\n",
    "    number = ''.join([str(num) for num in digits])\n",
    "\n",
    "    str_number = str(int(number) + 1)\n",
    "    str_list_nums = list(str_number)\n",
    "    int_list_nums = [int(num) for num in str_list_nums]\n",
    "\n",
    "    return int_list_nums\n",
    "\n",
    "\n",
    "print(plusOne(digits))"
   ]
  }
 ],
 "metadata": {
  "kernelspec": {
   "display_name": ".venv",
   "language": "python",
   "name": "python3"
  },
  "language_info": {
   "codemirror_mode": {
    "name": "ipython",
    "version": 3
   },
   "file_extension": ".py",
   "mimetype": "text/x-python",
   "name": "python",
   "nbconvert_exporter": "python",
   "pygments_lexer": "ipython3",
   "version": "3.12.6"
  }
 },
 "nbformat": 4,
 "nbformat_minor": 2
}
