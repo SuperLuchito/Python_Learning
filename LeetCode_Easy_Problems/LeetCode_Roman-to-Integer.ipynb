{
 "cells": [
  {
   "cell_type": "code",
   "execution_count": 1,
   "metadata": {},
   "outputs": [
    {
     "name": "stdout",
     "output_type": "stream",
     "text": [
      "1997\n"
     ]
    }
   ],
   "source": [
    "roman_nums = {\n",
    "    \"I\": 1, \n",
    "    \"V\": 5, \n",
    "    \"X\": 10, \n",
    "    \"L\": 50, \n",
    "    \"C\": 100, \n",
    "    \"D\": 500, \n",
    "    \"M\": 1000,\n",
    "}\n",
    "\n",
    "example_1 = 'MCMXCIVIII'\n",
    "\n",
    "\n",
    "def romanToInt(s):\n",
    "    total = 0\n",
    "    for i in range(len(s) - 1):\n",
    "        if roman_nums[s[i]] < roman_nums[s[i + 1]]:\n",
    "            total -= roman_nums[s[i]]\n",
    "        else:\n",
    "            total += roman_nums[s[i]]\n",
    "    return total + roman_nums[s[-1]]\n",
    "\n",
    "\n",
    "print(romanToInt(example_1))"
   ]
  }
 ],
 "metadata": {
  "kernelspec": {
   "display_name": ".venv",
   "language": "python",
   "name": "python3"
  },
  "language_info": {
   "codemirror_mode": {
    "name": "ipython",
    "version": 3
   },
   "file_extension": ".py",
   "mimetype": "text/x-python",
   "name": "python",
   "nbconvert_exporter": "python",
   "pygments_lexer": "ipython3",
   "version": "3.12.6"
  }
 },
 "nbformat": 4,
 "nbformat_minor": 2
}
