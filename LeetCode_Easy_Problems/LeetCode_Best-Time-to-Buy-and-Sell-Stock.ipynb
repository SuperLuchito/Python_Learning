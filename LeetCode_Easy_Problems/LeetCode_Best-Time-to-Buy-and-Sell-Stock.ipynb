{
 "cells": [
  {
   "cell_type": "code",
   "execution_count": null,
   "metadata": {},
   "outputs": [],
   "source": [
    "prices = [2, 1, 4]\n",
    "\n",
    "\n",
    "def maxProfit(prices):\n",
    "    min_element = min(prices)\n",
    "    \n",
    "    min_element_index = prices.index(min_element)\n",
    "\n",
    "    new_prices = prices[min_element_index:]\n",
    "    \n",
    "    if new_prices == 0:\n",
    "        return 0\n",
    "    \n",
    "    else:\n",
    "        max_element = max(new_prices)\n",
    "\n",
    "        return max_element - min_element\n",
    "\n",
    "\n",
    "print(maxProfit(prices))"
   ]
  }
 ],
 "metadata": {
  "kernelspec": {
   "display_name": ".venv",
   "language": "python",
   "name": "python3"
  },
  "language_info": {
   "name": "python",
   "version": "3.12.6"
  }
 },
 "nbformat": 4,
 "nbformat_minor": 2
}
