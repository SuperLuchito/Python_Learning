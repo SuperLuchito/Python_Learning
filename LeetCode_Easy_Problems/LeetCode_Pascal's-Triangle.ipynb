{
 "cells": [
  {
   "cell_type": "code",
   "execution_count": 1,
   "metadata": {},
   "outputs": [
    {
     "name": "stdout",
     "output_type": "stream",
     "text": [
      "[[1], [1, 1], [1, 2, 1], [1, 3, 3, 1], [1, 4, 6, 4, 1]]\n"
     ]
    }
   ],
   "source": [
    "n = 5\n",
    "\n",
    "\n",
    "def generate(n):\n",
    "    stack = []\n",
    "    if n == 0:\n",
    "        return []\n",
    "    elif n == 1:\n",
    "        return [[1]]\n",
    "    elif n == 2:\n",
    "        return [[1], [1, 1]]\n",
    "    else:\n",
    "        stack = [0] * (n)\n",
    "        stack[0] = [1]\n",
    "        stack[1] = [1, 1]\n",
    "        \n",
    "        for i in range(2, n):\n",
    "            dt = []\n",
    "            for j in range(len(stack[i - 1]) - 1):\n",
    "                dt.append(stack[i - 1][j] + stack[i - 1][j + 1])\n",
    "            dt.insert(0, 1)\n",
    "            dt.append(1)\n",
    "            stack[i] = dt\n",
    "        \n",
    "        return stack\n",
    "\n",
    "\n",
    "print(generate(n))"
   ]
  }
 ],
 "metadata": {
  "kernelspec": {
   "display_name": ".venv",
   "language": "python",
   "name": "python3"
  },
  "language_info": {
   "codemirror_mode": {
    "name": "ipython",
    "version": 3
   },
   "file_extension": ".py",
   "mimetype": "text/x-python",
   "name": "python",
   "nbconvert_exporter": "python",
   "pygments_lexer": "ipython3",
   "version": "3.12.6"
  }
 },
 "nbformat": 4,
 "nbformat_minor": 2
}
