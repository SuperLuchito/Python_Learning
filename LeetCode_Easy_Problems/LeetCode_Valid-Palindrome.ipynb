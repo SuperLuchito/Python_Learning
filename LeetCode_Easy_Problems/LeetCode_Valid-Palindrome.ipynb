{
 "cells": [
  {
   "cell_type": "code",
   "execution_count": 1,
   "metadata": {},
   "outputs": [],
   "source": [
    "import string"
   ]
  },
  {
   "cell_type": "code",
   "execution_count": 2,
   "metadata": {},
   "outputs": [
    {
     "name": "stdout",
     "output_type": "stream",
     "text": [
      "True\n"
     ]
    }
   ],
   "source": [
    "s = \"A man, a plan, a canal: Panama\"\n",
    "\n",
    "\n",
    "def isPalindrome(s):\n",
    "    s = s.lower()\n",
    "\n",
    "    translator = str.maketrans('', '', string.punctuation)\n",
    "    s = s.translate(translator)\n",
    "\n",
    "    s = s.replace(' ', '')\n",
    "\n",
    "    revert_s = s[::-1]\n",
    "    \n",
    "    return s == revert_s\n",
    "\n",
    "\n",
    "print(isPalindrome(s))"
   ]
  }
 ],
 "metadata": {
  "kernelspec": {
   "display_name": ".venv",
   "language": "python",
   "name": "python3"
  },
  "language_info": {
   "codemirror_mode": {
    "name": "ipython",
    "version": 3
   },
   "file_extension": ".py",
   "mimetype": "text/x-python",
   "name": "python",
   "nbconvert_exporter": "python",
   "pygments_lexer": "ipython3",
   "version": "3.12.6"
  }
 },
 "nbformat": 4,
 "nbformat_minor": 2
}
