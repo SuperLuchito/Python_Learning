{
 "cells": [
  {
   "cell_type": "code",
   "execution_count": 1,
   "metadata": {},
   "outputs": [
    {
     "name": "stdout",
     "output_type": "stream",
     "text": [
      "5\n"
     ]
    }
   ],
   "source": [
    "nums = [0, 1, 2, 2, 3, 0, 4, 2]\n",
    "val = 2\n",
    "\n",
    "\n",
    "def removeElement(nums, val):\n",
    "    if not nums:\n",
    "        return 0\n",
    "    \n",
    "    stack = []\n",
    "    \n",
    "    for i in range(len(nums)):\n",
    "        if nums[i] != val:\n",
    "            stack.append(i)\n",
    "    \n",
    "    for i in range(len(stack)):\n",
    "        tmp = nums[i]\n",
    "        nums[i] = nums[stack[i]]\n",
    "        nums[stack[i]] = tmp\n",
    "        \n",
    "    return len(stack)\n",
    "\n",
    "\n",
    "print(removeElement(nums, val))"
   ]
  }
 ],
 "metadata": {
  "kernelspec": {
   "display_name": ".venv",
   "language": "python",
   "name": "python3"
  },
  "language_info": {
   "codemirror_mode": {
    "name": "ipython",
    "version": 3
   },
   "file_extension": ".py",
   "mimetype": "text/x-python",
   "name": "python",
   "nbconvert_exporter": "python",
   "pygments_lexer": "ipython3",
   "version": "3.12.6"
  }
 },
 "nbformat": 4,
 "nbformat_minor": 2
}
