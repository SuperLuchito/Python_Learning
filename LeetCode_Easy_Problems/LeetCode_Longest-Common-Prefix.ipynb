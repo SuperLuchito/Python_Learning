{
 "cells": [
  {
   "cell_type": "code",
   "execution_count": 13,
   "metadata": {},
   "outputs": [
    {
     "name": "stdout",
     "output_type": "stream",
     "text": [
      "fl\n"
     ]
    }
   ],
   "source": [
    "strs_1 = [\"flower\", \"flow\", \"flight\"]\n",
    "\n",
    "strs_2 = [\"dog\", \"racecar\", \"car\"]\n",
    "\n",
    "def longest_common_prefix(strs):\n",
    "    if not strs:\n",
    "        return \"\"\n",
    "    \n",
    "    prefix = strs[0]\n",
    "    \n",
    "    for item in strs[1:]:\n",
    "        while item[:len(prefix)] != prefix and prefix:\n",
    "            prefix = prefix[:-1]\n",
    "    \n",
    "    return prefix\n",
    "\n",
    "print(longest_common_prefix(strs_1))"
   ]
  }
 ],
 "metadata": {
  "kernelspec": {
   "display_name": ".venv",
   "language": "python",
   "name": "python3"
  },
  "language_info": {
   "codemirror_mode": {
    "name": "ipython",
    "version": 3
   },
   "file_extension": ".py",
   "mimetype": "text/x-python",
   "name": "python",
   "nbconvert_exporter": "python",
   "pygments_lexer": "ipython3",
   "version": "3.12.6"
  }
 },
 "nbformat": 4,
 "nbformat_minor": 2
}
