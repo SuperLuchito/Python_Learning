{
 "cells": [
  {
   "cell_type": "code",
   "execution_count": 1,
   "metadata": {},
   "outputs": [
    {
     "name": "stdout",
     "output_type": "stream",
     "text": [
      "[1, 2, 2, 3, 5, 6]\n"
     ]
    }
   ],
   "source": [
    "nums1 = [1, 2, 3, 0, 0, 0]\n",
    "m = 3\n",
    "nums2 = [2, 5, 6]\n",
    "n = 3\n",
    "\n",
    "\n",
    "def merge(nums1, m, nums2, n):\n",
    "    if m == 0 and n == 0:\n",
    "        return nums1\n",
    "    \n",
    "    for i in range(n):\n",
    "        nums1[m] = nums2[i]\n",
    "        m += 1\n",
    "    \n",
    "    nums1.sort()\n",
    "    \n",
    "    return nums1\n",
    "\n",
    "\n",
    "print(merge(nums1, m, nums2, n))"
   ]
  }
 ],
 "metadata": {
  "kernelspec": {
   "display_name": ".venv",
   "language": "python",
   "name": "python3"
  },
  "language_info": {
   "codemirror_mode": {
    "name": "ipython",
    "version": 3
   },
   "file_extension": ".py",
   "mimetype": "text/x-python",
   "name": "python",
   "nbconvert_exporter": "python",
   "pygments_lexer": "ipython3",
   "version": "3.12.6"
  }
 },
 "nbformat": 4,
 "nbformat_minor": 2
}
