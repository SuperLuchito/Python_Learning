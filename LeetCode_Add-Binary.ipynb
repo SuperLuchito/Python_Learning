{
 "cells": [
  {
   "cell_type": "code",
   "execution_count": 1,
   "metadata": {},
   "outputs": [
    {
     "name": "stdout",
     "output_type": "stream",
     "text": [
      "10101\n"
     ]
    }
   ],
   "source": [
    "a = \"1010\"\n",
    "b = \"1011\"\n",
    "\n",
    "\n",
    "def addBinary(a, b):\n",
    "    decimal_a = int(a, 2)\n",
    "    decimal_b = int(b, 2)\n",
    "\n",
    "    decimal_sum = decimal_a + decimal_b\n",
    "\n",
    "    binary_sum = bin(decimal_sum)[2:]\n",
    "\n",
    "    return binary_sum\n",
    "\n",
    "\n",
    "print(addBinary(a, b))"
   ]
  }
 ],
 "metadata": {
  "kernelspec": {
   "display_name": ".venv",
   "language": "python",
   "name": "python3"
  },
  "language_info": {
   "codemirror_mode": {
    "name": "ipython",
    "version": 3
   },
   "file_extension": ".py",
   "mimetype": "text/x-python",
   "name": "python",
   "nbconvert_exporter": "python",
   "pygments_lexer": "ipython3",
   "version": "3.12.6"
  }
 },
 "nbformat": 4,
 "nbformat_minor": 2
}
